{
 "cells": [
  {
   "cell_type": "markdown",
   "metadata": {},
   "source": [
    "# OCT beam characterization\n",
    "Considerations taken from:\n",
    "\n",
    "[Design and Implementation Guidelines for a Modular Spectral-Domain Optical Coherence Tomography Scanner](https://www.hindawi.com/journals/ijo/2018/3726207/)\n"
   ]
  },
  {
   "cell_type": "markdown",
   "metadata": {},
   "source": [
    "### Numerical Aperture of a collimating lens\n",
    "$$\n",
    "(1)\\qquad N.A. \\equiv \\frac{r_0}{f}\n",
    "$$\n",
    "\n",
    "Where\n",
    "- $r_0$ is the the radius of the incoming (gaussian) beam\n",
    "- $f$ is the focal distance of the collimating lens\n",
    "\n",
    "\n",
    "### Spot Size of Gaussian Beam\n",
    "$$\n",
    "(2)\\qquad \\delta x = \\frac{2\\lambda}{\\pi}\\frac{f}{r_0} = \\frac{2\\lambda_0}{\\pi \\ \\text{NA}}\n",
    "$$\n",
    "\n",
    "Where:\n",
    "\n",
    "- $\\lambda_0$ is the central OCT wavelength\n",
    "\n",
    "\n",
    "### Lateral Resolution in OCT - from Gray Optics consultancy\n",
    "$$\n",
    "(3)\\qquad \\delta x = \\sqrt{2 \\ln 2} \\ \\frac{\\lambda_0}{\\pi \\ \\text{NA}}\n",
    "$$\n",
    "\n",
    "Where:\n",
    "- $\\sqrt{2 \\ln 2} \\approx 1.18$ \n",
    "\n",
    "\n",
    "### Depth-of-field\n",
    "i.e. the range in which the beam waist radius stays smaller than $\\sqrt{2}\\,\\delta x$ \n",
    "Generally, it is considered as the range where the resolution is maintained close to the desired value, and outisde this range, the resolution drops quickly. \n",
    "\n",
    "$$\n",
    "(4)\\qquad \\text{DOF} = \\frac{\\pi \\, \\delta x^2}{\\lambda} = \\frac{4 \\lambda}{\\pi \\ \\text{NA}^2}\n",
    "$$"
   ]
  },
  {
   "cell_type": "code",
   "execution_count": 28,
   "metadata": {},
   "outputs": [],
   "source": [
    "central_wavelength = 1.31 # um\n",
    "pi = 3.1415\n",
    "r_0 = 2.5 # mm - the waist size of the collimated beam\n",
    "f = 150 # mm "
   ]
  },
  {
   "cell_type": "code",
   "execution_count": 29,
   "metadata": {},
   "outputs": [
    {
     "name": "stdout",
     "output_type": "stream",
     "text": [
      "0.016666666666666666\n"
     ]
    }
   ],
   "source": [
    "NA = r_0/f\n",
    "print(NA)"
   ]
  },
  {
   "cell_type": "code",
   "execution_count": 30,
   "metadata": {},
   "outputs": [
    {
     "name": "stdout",
     "output_type": "stream",
     "text": [
      "50.0 in micron\n",
      "29.5 in micron\n"
     ]
    }
   ],
   "source": [
    "# if we apply (2), the NA above results in a lateral resolution of: \n",
    "\n",
    "dx_2 = 2*central_wavelength*f /(pi*r_0)\n",
    "print(f\"{dx_2:.3} in micron\")\n",
    "\n",
    "\n",
    "# If instead we apply (3) \n",
    "\n",
    "dx = (1.18)*central_wavelength / (pi*NA)\n",
    "print(f\"{dx:.3} in micron\")"
   ]
  },
  {
   "cell_type": "code",
   "execution_count": 31,
   "metadata": {},
   "outputs": [
    {
     "name": "stdout",
     "output_type": "stream",
     "text": [
      "6004.775 um\n"
     ]
    }
   ],
   "source": [
    "# Which results in a Depth-of-field (DOF)\n",
    "\n",
    "DOF = 4*central_wavelength / (pi*NA*NA)\n",
    "print(f\"{DOF:.7} um\")"
   ]
  },
  {
   "cell_type": "markdown",
   "metadata": {},
   "source": [
    "## Considerations\n",
    "**Assumptions**: long WD lens (150mm BFL), and attainable collimated waist beam (5mm)\n",
    "- The Depth of field is not going to be a problem\n",
    "- The Lateral resolution $\\delta_x$ is barely acceptable, we will have to consider some degree of oversampling\n",
    "- To improve resolution, we need to use a fiber collimator that expands the beam as much as possible \n",
    "- However, the collimated beam must be able to fit within the MEMS mirror when hitting it at an angle (i.e. 45 deg). That means that a beam with size _w_ can be steered by a mirror of minimum size $D=w/\\sin(aoi)$, usually 45deg.\n",
    "- If we take the [biggest Mirrorcle](https://www.mirrorcletech.com/wp/products/mems-mirrors/dual/bonded/), i.e. 7.5mm size, that means that we can use a beam size of around 5mm"
   ]
  }
 ],
 "metadata": {
  "kernelspec": {
   "display_name": "Python 3",
   "language": "python",
   "name": "python3"
  },
  "language_info": {
   "codemirror_mode": {
    "name": "ipython",
    "version": 3
   },
   "file_extension": ".py",
   "mimetype": "text/x-python",
   "name": "python",
   "nbconvert_exporter": "python",
   "pygments_lexer": "ipython3",
   "version": "3.8.3"
  }
 },
 "nbformat": 4,
 "nbformat_minor": 4
}
